{
 "cells": [
  {
   "cell_type": "code",
   "execution_count": 3,
   "metadata": {
    "execution": {
     "iopub.execute_input": "2021-01-19T19:45:29.725918Z",
     "iopub.status.busy": "2021-01-19T19:45:29.725649Z",
     "iopub.status.idle": "2021-01-19T19:45:30.024726Z",
     "shell.execute_reply": "2021-01-19T19:45:30.023770Z",
     "shell.execute_reply.started": "2021-01-19T19:45:29.725893Z"
    }
   },
   "outputs": [],
   "source": [
    "# Import statements\n",
    "from sklearn.preprocessing import StandardScaler\n",
    "from sklearn.cluster import DBSCAN\n",
    "import pandas as pd\n",
    "import numpy as np\n",
    "import seaborn as sns\n",
    "import matplotlib.pyplot as plt"
   ]
  },
  {
   "cell_type": "code",
   "execution_count": null,
   "metadata": {},
   "outputs": [],
   "source": [
    "# Source: https://www.dezyre.com/recipes/do-dbscan-based-clustering-in-python\n",
    "\n",
    "# Read the data (Rename the file input)\n",
    "df = pd.read_csv(\"ft_data.csv\")\n",
    "\n",
    "# Convert to numpy\n",
    "X = df.to_numpy()"
   ]
  },
  {
   "cell_type": "code",
   "execution_count": 2,
   "metadata": {
    "execution": {
     "iopub.execute_input": "2021-01-19T18:55:26.787060Z",
     "iopub.status.busy": "2021-01-19T18:55:26.786666Z",
     "iopub.status.idle": "2021-01-19T18:55:26.905932Z",
     "shell.execute_reply": "2021-01-19T18:55:26.905023Z",
     "shell.execute_reply.started": "2021-01-19T18:55:26.787021Z"
    }
   },
   "outputs": [
    {
     "ename": "NameError",
     "evalue": "name 'StandardScaler' is not defined",
     "output_type": "error",
     "traceback": [
      "\u001b[0;31m---------------------------------------------------------------------------\u001b[0m",
      "\u001b[0;31mNameError\u001b[0m                                 Traceback (most recent call last)",
      "\u001b[0;32m<ipython-input-2-a34949f89983>\u001b[0m in \u001b[0;36m<module>\u001b[0;34m\u001b[0m\n\u001b[0;32m----> 1\u001b[0;31m \u001b[0mstd_slc\u001b[0m \u001b[0;34m=\u001b[0m \u001b[0mStandardScaler\u001b[0m\u001b[0;34m(\u001b[0m\u001b[0;34m)\u001b[0m\u001b[0;34m\u001b[0m\u001b[0;34m\u001b[0m\u001b[0m\n\u001b[0m\u001b[1;32m      2\u001b[0m \u001b[0mX_std\u001b[0m \u001b[0;34m=\u001b[0m \u001b[0mstd_slc\u001b[0m\u001b[0;34m.\u001b[0m\u001b[0mfit_transform\u001b[0m\u001b[0;34m(\u001b[0m\u001b[0mX\u001b[0m\u001b[0;34m)\u001b[0m\u001b[0;34m\u001b[0m\u001b[0;34m\u001b[0m\u001b[0m\n",
      "\u001b[0;31mNameError\u001b[0m: name 'StandardScaler' is not defined"
     ]
    }
   ],
   "source": [
    "# Standardize the data\n",
    "std_slc = StandardScaler()\n",
    "X_std = std_slc.fit_transform(X)"
   ]
  },
  {
   "cell_type": "code",
   "execution_count": null,
   "metadata": {},
   "outputs": [],
   "source": [
    "# Perform dbscan\n",
    "clt = DBSCAN()\n",
    "\n",
    "model = clt.fit(X_std)\n",
    "\n",
    "clusters = pd.DataFrame(model.fit_predict(X_std))\n",
    "df[\"Cluster\"] = clusters"
   ]
  },
  {
   "cell_type": "code",
   "execution_count": null,
   "metadata": {},
   "outputs": [],
   "source": [
    "# Visualize the data\n",
    "fig = plt.figure(figsize=(10,10)); ax = fig.add_subplot(111)\n",
    "scatter = ax.scatter(df[0],df[1], c=df[\"Cluster\"],s=50)\n",
    "ax.set_title(\"DBSCAN Clustering\")\n",
    "ax.set_xlabel(\"X0\")\n",
    "ax.set_ylabel(\"X1\")\n",
    "plt.colorbar(scatter)\n",
    "plt.show()"
   ]
  }
 ],
 "metadata": {
  "kernelspec": {
   "display_name": "Python 3",
   "language": "python",
   "name": "python3"
  },
  "kubeflow_notebook": {
   "autosnapshot": false,
   "docker_image": "k8scc01covidacr.azurecr.io/jupyterlab-cpu:ee176847",
   "experiment": {
    "id": "",
    "name": ""
   },
   "experiment_name": "",
   "katib_metadata": {
    "algorithm": {
     "algorithmName": "grid"
    },
    "maxFailedTrialCount": 3,
    "maxTrialCount": 12,
    "objective": {
     "objectiveMetricName": "",
     "type": "minimize"
    },
    "parallelTrialCount": 3,
    "parameters": []
   },
   "katib_run": false,
   "pipeline_description": "",
   "pipeline_name": "",
   "snapshot_volumes": false,
   "steps_defaults": [],
   "volume_access_mode": "rwm",
   "volumes": []
  },
  "language_info": {
   "codemirror_mode": {
    "name": "ipython",
    "version": 3
   },
   "file_extension": ".py",
   "mimetype": "text/x-python",
   "name": "python",
   "nbconvert_exporter": "python",
   "pygments_lexer": "ipython3",
   "version": "3.8.6"
  }
 },
 "nbformat": 4,
 "nbformat_minor": 4
}
